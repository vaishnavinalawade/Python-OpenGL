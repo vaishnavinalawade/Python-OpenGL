{
 "cells": [
  {
   "cell_type": "code",
   "execution_count": 1,
   "metadata": {},
   "outputs": [],
   "source": [
    "import math "
   ]
  },
  {
   "cell_type": "code",
   "execution_count": 2,
   "metadata": {},
   "outputs": [
    {
     "name": "stdout",
     "output_type": "stream",
     "text": [
      "pygame 1.9.6\n",
      "Hello from the pygame community. https://www.pygame.org/contribute.html\n"
     ]
    }
   ],
   "source": [
    "import pygame\n",
    "import OpenGL"
   ]
  },
  {
   "cell_type": "code",
   "execution_count": 3,
   "metadata": {},
   "outputs": [],
   "source": [
    "from pygame.locals import *\n",
    "#from pygame import *"
   ]
  },
  {
   "cell_type": "code",
   "execution_count": 4,
   "metadata": {},
   "outputs": [],
   "source": [
    "import OpenGL.GL as GL"
   ]
  },
  {
   "cell_type": "code",
   "execution_count": 5,
   "metadata": {},
   "outputs": [],
   "source": [
    "import OpenGL.GLU as GLU"
   ]
  },
  {
   "cell_type": "code",
   "execution_count": 6,
   "metadata": {},
   "outputs": [],
   "source": [
    "verticies = (\n",
    "(1, -1, -1),\n",
    "(1, 1, -1),\n",
    "(-1, 1, -1),\n",
    "(-1, -1, -1),\n",
    "(1, -1, 1),\n",
    "(1, 1, 1),\n",
    "(-1, -1, 1),\n",
    "(-1, 1, 1))"
   ]
  },
  {
   "cell_type": "code",
   "execution_count": 7,
   "metadata": {},
   "outputs": [],
   "source": [
    "edges = (\n",
    "(0,1),\n",
    "(0,3),\n",
    "(0,4),\n",
    "(2,1),\n",
    "(2,3),\n",
    "(2,7),\n",
    "(6,3),\n",
    "(6,4),\n",
    "(6,7),\n",
    "(5,1),\n",
    "(5,4),\n",
    "(5,7))"
   ]
  },
  {
   "cell_type": "code",
   "execution_count": 8,
   "metadata": {},
   "outputs": [],
   "source": [
    "colors = (\n",
    "(1,0,0),\n",
    "(0,1,0),\n",
    "(0,0,1),\n",
    "(1,1,1),\n",
    "(0,1,1),\n",
    "(1,0,0),\n",
    "(0,1,0),\n",
    "(0,0,1),\n",
    "(1,0,0),\n",
    "(0,0,1),\n",
    "(1,1,1),\n",
    "(0,1,1))"
   ]
  },
  {
   "cell_type": "code",
   "execution_count": 9,
   "metadata": {},
   "outputs": [],
   "source": [
    "surfaces = (\n",
    "(0,1,2,3),\n",
    "(3,2,7,6),\n",
    "(6,7,5,4),\n",
    "(4,5,1,0),\n",
    "(1,5,7,2),\n",
    "(4,0,3,6))"
   ]
  },
  {
   "cell_type": "code",
   "execution_count": 10,
   "metadata": {},
   "outputs": [],
   "source": [
    "def Cube():\n",
    "    GL.glBegin(GL.GL_QUADS)\n",
    "    for surface in surfaces:\n",
    "        a = 0\n",
    "        for vertex in surface:\n",
    "            a+=1\n",
    "            GL.glColor3fv(colors[a])\n",
    "            GL.glVertex3fv(verticies[vertex])\n",
    "    GL.glEnd()\n",
    "    GL.glBegin(GL.GL_LINES)\n",
    "    for edge in edges:\n",
    "        for vertex in edge:\n",
    "            GL.glVertex3fv(verticies[vertex])\n",
    "    GL.glEnd()"
   ]
  },
  {
   "cell_type": "code",
   "execution_count": 11,
   "metadata": {},
   "outputs": [],
   "source": [
    "def main():\n",
    "    pygame.init()\n",
    "    x = 800\n",
    "    y = 600\n",
    "    fH = math.tan(45/360 * 3.14)*0.1\n",
    "    fW = fH * (x/y)\n",
    "    #display = (800,600)\n",
    "    pygame.display.set_mode((x,y), pygame.DOUBLEBUF|OPENGL)\n",
    "    GL.glFrustum(-fW, fW, fH, -fH, 0.1, 50.0)\n",
    "    GL.glTranslatef(0.0,0.0,-5)\n",
    "    #GL.glEnable(True)\n",
    "    GL.glEnable(GL.GL_DEPTH_TEST)\n",
    "    while True:\n",
    "        for event in pygame.event.get():\n",
    "            if event.type == pygame.QUIT:\n",
    "                pygame.quit()\n",
    "                quit()\n",
    "        GL.glRotatef(1,2,1,1)\n",
    "        GL.glClear(GL.GL_COLOR_BUFFER_BIT|GL.GL_DEPTH_BUFFER_BIT)\n",
    "        Cube()\n",
    "        pygame.display.flip()\n",
    "        pygame.time.wait(10)"
   ]
  },
  {
   "cell_type": "code",
   "execution_count": 12,
   "metadata": {},
   "outputs": [
    {
     "name": "stdout",
     "output_type": "stream",
     "text": [
      "GLError(\n",
      "\terr = 1282,\n",
      "\tdescription = b'invalid operation',\n",
      "\tbaseOperation = glRotatef,\n",
      "\tcArguments = (1, 2, 1, 1)\n",
      ")\n"
     ]
    }
   ],
   "source": [
    "try:\n",
    "    main()\n",
    "except Exception as e:\n",
    "    print(e)"
   ]
  },
  {
   "cell_type": "code",
   "execution_count": null,
   "metadata": {},
   "outputs": [],
   "source": []
  }
 ],
 "metadata": {
  "kernelspec": {
   "display_name": "Python 3",
   "language": "python",
   "name": "python3"
  },
  "language_info": {
   "codemirror_mode": {
    "name": "ipython",
    "version": 3
   },
   "file_extension": ".py",
   "mimetype": "text/x-python",
   "name": "python",
   "nbconvert_exporter": "python",
   "pygments_lexer": "ipython3",
   "version": "3.7.4"
  }
 },
 "nbformat": 4,
 "nbformat_minor": 2
}
